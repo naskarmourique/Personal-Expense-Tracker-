{
 "cells": [
  {
   "cell_type": "markdown",
   "id": "2a7bda0a",
   "metadata": {},
   "source": [
    "# 🧾 Personal Expense Tracker — Interactive (Widget-based)\n",
    "\n",
    "**Features included**\n",
    "- Add / Edit / Delete expenses via interactive widgets  \n",
    "- List all expenses in a table view  \n",
    "- Summaries by Category and Month  \n",
    "- Visualizations (Bar: category totals, Line: monthly trend)  \n",
    "- Persistent storage in `expenses.json` with sample data auto-generation  \n",
    "- Clean markdown sections and project-style organization\n"
   ]
  },
  {
   "cell_type": "markdown",
   "id": "c0bb35ff",
   "metadata": {},
   "source": [
    "## 📚 Imports and Setup"
   ]
  },
  {
   "cell_type": "code",
   "execution_count": 5,
   "id": "2a5ec1c7",
   "metadata": {},
   "outputs": [],
   "source": [
    "import json\n",
    "import os\n",
    "from typing import List, Dict, Any, Optional\n",
    "import pandas as pd\n",
    "import matplotlib.pyplot as plt\n",
    "from datetime import datetime\n",
    "import ipywidgets as widgets\n",
    "from IPython.display import display, clear_output\n",
    "DATA_FILE = \"expenses.json\"\n"
   ]
  },
  {
   "cell_type": "markdown",
   "id": "2fa9cb34",
   "metadata": {},
   "source": [
    "## 💾 Data Loading & Saving (JSON)"
   ]
  },
  {
   "cell_type": "code",
   "execution_count": 6,
   "id": "a4656971",
   "metadata": {},
   "outputs": [
    {
     "data": {
      "text/plain": [
       "[{'amount': 50.0, 'category': 'ghh', 'date': '2025-10-16'}]"
      ]
     },
     "execution_count": 6,
     "metadata": {},
     "output_type": "execute_result"
    }
   ],
   "source": [
    "def load_expenses(filename: str = DATA_FILE) -> List[Dict[str, Any]]:\n",
    "    if not os.path.exists(filename):\n",
    "        return []\n",
    "    try:\n",
    "        with open(filename, 'r', encoding='utf-8') as f:\n",
    "            data = json.load(f)\n",
    "        if isinstance(data, list):\n",
    "            return data\n",
    "    except Exception:\n",
    "        # If file corrupted or unreadable, return empty list\n",
    "        return []\n",
    "    return []\n",
    "\n",
    "def save_expenses(expenses: List[Dict[str, Any]], filename: str = DATA_FILE) -> None:\n",
    "    with open(filename, 'w', encoding='utf-8') as f:\n",
    "        json.dump(expenses, f, indent=4, ensure_ascii=False)\n",
    "\n",
    "def ensure_sample_data():\n",
    "    expenses = load_expenses()\n",
    "    if not expenses:\n",
    "        sample = [\n",
    "            {\"Date\": \"2025-10-01\", \"Category\": \"Food\", \"Amount\": 200.0, \"Description\": \"Breakfast\"},\n",
    "            {\"Date\": \"2025-10-03\", \"Category\": \"Transport\", \"Amount\": 120.0, \"Description\": \"Bus ticket\"},\n",
    "            {\"Date\": \"2025-10-05\", \"Category\": \"Shopping\", \"Amount\": 500.0, \"Description\": \"Groceries\"},\n",
    "            {\"Date\": \"2025-09-28\", \"Category\": \"Bills\", \"Amount\": 1500.0, \"Description\": \"Electricity bill\"}\n",
    "        ]\n",
    "        save_expenses(sample)\n",
    "        return sample\n",
    "    return expenses\n",
    "\n",
    "# initialize file if missing\n",
    "ensure_sample_data()\n"
   ]
  },
  {
   "cell_type": "markdown",
   "id": "d398e99f",
   "metadata": {},
   "source": [
    "## 🧰 DataFrame helper"
   ]
  },
  {
   "cell_type": "code",
   "execution_count": 7,
   "id": "cab50fc0",
   "metadata": {},
   "outputs": [
    {
     "name": "stdout",
     "output_type": "stream",
     "text": [
      "Loaded 1 records from expenses.json\n"
     ]
    }
   ],
   "source": [
    "def load_as_dataframe() -> pd.DataFrame:\n",
    "    expenses = load_expenses()\n",
    "    df = pd.DataFrame(expenses)\n",
    "    if df.empty:\n",
    "        return df\n",
    "    # Ensure correct dtypes\n",
    "    if 'Date' in df.columns:\n",
    "        df['Date'] = pd.to_datetime(df['Date'])\n",
    "        df['Month'] = df['Date'].dt.to_period('M')\n",
    "    if 'Amount' in df.columns:\n",
    "        df['Amount'] = pd.to_numeric(df['Amount'], errors='coerce').fillna(0.0)\n",
    "    return df\n",
    "\n",
    "# quick check\n",
    "df = load_as_dataframe()\n",
    "print(f\"Loaded {len(df)} records from {DATA_FILE}\")\n"
   ]
  },
  {
   "cell_type": "markdown",
   "id": "a157f462",
   "metadata": {},
   "source": [
    "## 🔧 Core functions (add, edit, delete, list, summary, visuals)"
   ]
  },
  {
   "cell_type": "code",
   "execution_count": 11,
   "id": "9f441ca3",
   "metadata": {},
   "outputs": [],
   "source": [
    "def add_expense(date: str, category: str, amount: float, description: str) -> None:\n",
    "    expenses = load_expenses()\n",
    "    new = {\"Date\": date, \"Category\": category, \"Amount\": float(amount), \"Description\": description}\n",
    "    expenses.append(new)\n",
    "    save_expenses(expenses)\n",
    "\n",
    "def list_expenses() -> pd.DataFrame:\n",
    "    return load_as_dataframe()\n",
    "\n",
    "def find_expense_index_by_rowid(rowid: int) -> Optional[int]:\n",
    "    expenses = load_expenses()\n",
    "    if 0 <= rowid < len(expenses):\n",
    "        return rowid\n",
    "    return None\n",
    "\n",
    "def edit_expense(index: int, date: str, category: str, amount: float, description: str) -> bool:\n",
    "    expenses = load_expenses()\n",
    "    if 0 <= index < len(expenses):\n",
    "        expenses[index] = {\"Date\": date, \"Category\": category, \"Amount\": float(amount), \"Description\": description}\n",
    "        save_expenses(expenses)\n",
    "        return True\n",
    "    return False\n",
    "\n",
    "def delete_expense(index: int) -> bool:\n",
    "    expenses = load_expenses()\n",
    "    if 0 <= index < len(expenses):\n",
    "        expenses.pop(index)\n",
    "        save_expenses(expenses)\n",
    "        return True\n",
    "    return False\n",
    "\n",
    "def view_summary() -> Dict[str, pd.DataFrame]:\n",
    "    df = load_as_dataframe()\n",
    "    if df.empty:\n",
    "        return {\"by_category\": pd.DataFrame(), \"by_month\": pd.DataFrame()}\n",
    "    by_category = df.groupby('Category', as_index=False)['Amount'].sum().sort_values('Amount', ascending=False)\n",
    "    by_month = df.groupby('Month', as_index=False)['Amount'].sum().sort_values('Month')\n",
    "    return {\"by_category\": by_category, \"by_month\": by_month}\n",
    "\n",
    "def show_visual_summary(output_area=None):\n",
    "    df = load_as_dataframe()\n",
    "    if df.empty:\n",
    "        if output_area:\n",
    "            with output_area:\n",
    "                clear_output()\n",
    "                print(\"No data to visualize.\")\n",
    "        return\n",
    "    summary = view_summary()\n",
    "    by_category = summary['by_category']\n",
    "    by_month = summary['by_month']\n",
    "    # Create plots (each its own figure)\n",
    "    fig1, ax1 = plt.subplots(figsize=(8,4))\n",
    "    ax1.bar(by_category['Category'], by_category['Amount'])\n",
    "    ax1.set_title('Total Expenses by Category')\n",
    "    ax1.set_xlabel('Category')\n",
    "    ax1.set_ylabel('Total Amount (₹)')\n",
    "    fig1.tight_layout()\n",
    "    fig2, ax2 = plt.subplots(figsize=(8,4))\n",
    "    # by_month['Month'] might be Period objects; convert to string for plotting\n",
    "    ax2.plot(by_month['Month'].astype(str), by_month['Amount'], marker='o')\n",
    "    ax2.set_title('Monthly Expense Trend')\n",
    "    ax2.set_xlabel('Month')\n",
    "    ax2.set_ylabel('Total Amount (₹)')\n",
    "    fig2.tight_layout()\n",
    "    if output_area:\n",
    "        with output_area:\n",
    "            clear_output()\n",
    "            display(fig1)\n",
    "            display(fig2)\n",
    "    else:\n",
    "        display(fig1)\n",
    "        display(fig2)\n"
   ]
  },
  {
   "cell_type": "markdown",
   "id": "2455eb3f",
   "metadata": {},
   "source": [
    "## 🧭 Interactive Widget UI (Menu-driven)"
   ]
  },
  {
   "cell_type": "code",
   "execution_count": 12,
   "id": "dd044eb7",
   "metadata": {},
   "outputs": [
    {
     "data": {
      "application/vnd.jupyter.widget-view+json": {
       "model_id": "379f1314fc004ac58e6729e7fc312e7c",
       "version_major": 2,
       "version_minor": 0
      },
      "text/plain": [
       "Tab(children=(VBox(children=(Label(value='Add a new expense'), Text(value='2025-10-17', description='Date:'), …"
      ]
     },
     "metadata": {},
     "output_type": "display_data"
    }
   ],
   "source": [
    "# Output area for messages and tables\n",
    "out = widgets.Output(layout={'border': '1px solid lightgray'})\n",
    "\n",
    "# --- Add Expense Widgets ---\n",
    "date_in = widgets.Text(value=datetime.today().strftime('%Y-%m-%d'), description='Date:')\n",
    "cat_in = widgets.Text(value='Food', description='Category:')\n",
    "amt_in = widgets.FloatText(value=0.0, description='Amount:')\n",
    "desc_in = widgets.Text(value='', description='Description:')\n",
    "add_btn = widgets.Button(description='Add Expense', button_style='success')\n",
    "\n",
    "def on_add_clicked(b):\n",
    "    try:\n",
    "        add_expense(date_in.value, cat_in.value, amt_in.value, desc_in.value)\n",
    "        with out:\n",
    "            clear_output()\n",
    "            print('✅ Expense added.')\n",
    "            display(list_expenses().tail(5))\n",
    "    except Exception as e:\n",
    "        with out:\n",
    "            clear_output()\n",
    "            print('Error adding expense:', e)\n",
    "\n",
    "add_btn.on_click(on_add_clicked)\n",
    "add_box = widgets.VBox([widgets.Label('Add a new expense'), date_in, cat_in, amt_in, desc_in, add_btn])\n",
    "\n",
    "# --- List / Refresh ---\n",
    "refresh_btn = widgets.Button(description='Refresh List')\n",
    "list_box_out = widgets.Output()\n",
    "\n",
    "def on_refresh(b):\n",
    "    with list_box_out:\n",
    "        clear_output()\n",
    "        df = list_expenses()\n",
    "        if df.empty:\n",
    "            print('No expenses found.')\n",
    "        else:\n",
    "            display(df.reset_index().rename(columns={'index':'RowID'}))\n",
    "\n",
    "refresh_btn.on_click(on_refresh)\n",
    "list_box = widgets.VBox([widgets.Label('All expenses (press Refresh)'), refresh_btn, list_box_out])\n",
    "\n",
    "# --- Edit Expense Widgets ---\n",
    "edit_index = widgets.IntText(value=0, description='RowID:')\n",
    "edit_date = widgets.Text(value=datetime.today().strftime('%Y-%m-%d'), description='Date:')\n",
    "edit_cat = widgets.Text(value='Food', description='Category:')\n",
    "edit_amt = widgets.FloatText(value=0.0, description='Amount:')\n",
    "edit_desc = widgets.Text(value='', description='Description:')\n",
    "edit_btn = widgets.Button(description='Edit Expense', button_style='warning')\n",
    "\n",
    "def on_edit(b):\n",
    "    idx = edit_index.value\n",
    "    success = edit_expense(idx, edit_date.value, edit_cat.value, edit_amt.value, edit_desc.value)\n",
    "    with out:\n",
    "        clear_output()\n",
    "        if success:\n",
    "            print(f'✅ Expense at RowID {idx} updated.')\n",
    "            display(list_expenses().reset_index().rename(columns={'index':'RowID'}).loc[[idx]])\n",
    "        else:\n",
    "            print('❌ Invalid RowID or edit failed.')\n",
    "\n",
    "edit_btn.on_click(on_edit)\n",
    "edit_box = widgets.VBox([widgets.Label('Edit an expense (provide RowID)'), edit_index, edit_date, edit_cat, edit_amt, edit_desc, edit_btn])\n",
    "\n",
    "# --- Delete Expense Widgets ---\n",
    "del_index = widgets.IntText(value=0, description='RowID:')\n",
    "del_btn = widgets.Button(description='Delete Expense', button_style='danger')\n",
    "\n",
    "def on_delete(b):\n",
    "    idx = del_index.value\n",
    "    success = delete_expense(idx)\n",
    "    with out:\n",
    "        clear_output()\n",
    "        if success:\n",
    "            print(f'🗑️ Deleted expense at RowID {idx}.')\n",
    "            display(list_expenses().reset_index().rename(columns={'index':'RowID'}).head(10))\n",
    "        else:\n",
    "            print('❌ Invalid RowID or delete failed.')\n",
    "\n",
    "del_btn.on_click(on_delete)\n",
    "del_box = widgets.VBox([widgets.Label('Delete an expense (provide RowID)'), del_index, del_btn])\n",
    "\n",
    "# --- Summary & Visuals ---\n",
    "summary_btn = widgets.Button(description='Show Summary')\n",
    "visual_btn = widgets.Button(description='Show Visual Summary')\n",
    "\n",
    "summary_out = widgets.Output()\n",
    "visual_out = widgets.Output()\n",
    "\n",
    "def on_summary(b):\n",
    "    with summary_out:\n",
    "        clear_output()\n",
    "        s = view_summary()\n",
    "        print('### By Category')\n",
    "        display(s['by_category'])\n",
    "        print('\\n### By Month')\n",
    "        display(s['by_month'])\n",
    "\n",
    "def on_visual(b):\n",
    "    show_visual_summary(output_area=visual_out)\n",
    "\n",
    "summary_btn.on_click(on_summary)\n",
    "visual_btn.on_click(on_visual)\n",
    "\n",
    "summary_box = widgets.HBox([summary_btn, visual_btn])\n",
    "summary_display = widgets.VBox([summary_box, summary_out, visual_out])\n",
    "\n",
    "# --- Layout ---\n",
    "tab = widgets.Tab()\n",
    "tab.children = [add_box, list_box, edit_box, del_box, summary_display, out]\n",
    "tab.set_title(0, 'Add')\n",
    "tab.set_title(1, 'List')\n",
    "tab.set_title(2, 'Edit')\n",
    "tab.set_title(3, 'Delete')\n",
    "tab.set_title(4, 'Summary & Visuals')\n",
    "tab.set_title(5, 'Messages')\n",
    "\n",
    "display(tab)\n"
   ]
  },
  {
   "cell_type": "markdown",
   "id": "e4786557",
   "metadata": {},
   "source": [
    "## ✅ Conclusion\n",
    "\n",
    "This interactive notebook provides a complete personal expense tracker with persistent JSON storage, editable records, summaries, and visualizations. It's ready for submission as a mini project."
   ]
  }
 ],
 "metadata": {
  "kernelspec": {
   "display_name": "Python [conda env:base] *",
   "language": "python",
   "name": "conda-base-py"
  },
  "language_info": {
   "codemirror_mode": {
    "name": "ipython",
    "version": 3
   },
   "file_extension": ".py",
   "mimetype": "text/x-python",
   "name": "python",
   "nbconvert_exporter": "python",
   "pygments_lexer": "ipython3",
   "version": "3.13.5"
  }
 },
 "nbformat": 4,
 "nbformat_minor": 5
}
