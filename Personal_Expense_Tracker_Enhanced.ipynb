{
 "cells": [
  {
   "cell_type": "markdown",
   "id": "19a0b14f",
   "metadata": {},
   "source": [
    "\n",
    "# 💰 Personal Expense Tracker\n",
    "\n",
    "This notebook helps you track, analyze, and visualize your personal expenses efficiently.  \n",
    "It includes data recording, monthly summaries, and visual insights using **Matplotlib** and **Seaborn**.\n",
    "\n",
    "---\n"
   ]
  },
  {
   "cell_type": "markdown",
   "id": "d38a1ff0",
   "metadata": {},
   "source": [
    "# 🧾 Personal Expense Tracker\n",
    "A Python mini project implemented as a Jupyter Notebook.\n",
    "\n",
    "This tracker allows you to:\n",
    "- Add, view, edit, delete expenses\n",
    "- Save and load data from a JSON file\n",
    "- Visualize spending using Matplotlib\n",
    "\n",
    "Run each cell in order to interact with the program."
   ]
  },
  {
   "cell_type": "markdown",
   "id": "e3611e44",
   "metadata": {},
   "source": [
    "## 📦 Importing Required Libraries\n",
    "We import the necessary libraries for data manipulation, visualization, and file handling."
   ]
  },
  {
   "cell_type": "code",
   "execution_count": 14,
   "id": "22febeca",
   "metadata": {},
   "outputs": [],
   "source": [
    "\n",
    "import json\n",
    "import os\n",
    "import pandas as pd\n",
    "from datetime import datetime\n",
    "from typing import List, Dict, Any\n",
    "\n",
    "try:\n",
    "    import matplotlib.pyplot as plt\n",
    "    HAVE_MPL = True\n",
    "except Exception:\n",
    "    HAVE_MPL = False\n",
    "\n",
    "DATA_FILE = \"expenses.json\"\n"
   ]
  },
  {
   "cell_type": "code",
   "execution_count": 3,
   "id": "a9c78b18",
   "metadata": {},
   "outputs": [],
   "source": [
    "\n",
    "def load_expenses(filename: str = DATA_FILE) -> List[Dict[str, Any]]:\n",
    "    if not os.path.exists(filename):\n",
    "        return []\n",
    "    try:\n",
    "        with open(filename, 'r', encoding='utf-8') as f:\n",
    "            data = json.load(f)\n",
    "        if not isinstance(data, list):\n",
    "            return []\n",
    "        cleaned = []\n",
    "        for e in data:\n",
    "            try:\n",
    "                amount = float(e.get(\"amount\"))\n",
    "                category = str(e.get(\"category\")).strip()\n",
    "                date = e.get(\"date\")\n",
    "                datetime.strptime(date, \"%Y-%m-%d\")\n",
    "                cleaned.append({\"amount\": amount, \"category\": category, \"date\": date})\n",
    "            except Exception:\n",
    "                continue\n",
    "        return cleaned\n",
    "    except Exception:\n",
    "        return []\n",
    "\n",
    "def save_expenses(expenses: List[Dict[str, Any]], filename: str = DATA_FILE):\n",
    "    try:\n",
    "        with open(filename, 'w', encoding='utf-8') as f:\n",
    "            json.dump(expenses, f, indent=4, ensure_ascii=False)\n",
    "    except Exception as e:\n",
    "        print(f\"Error saving expenses: {e}\")\n"
   ]
  },
  {
   "cell_type": "code",
   "execution_count": 5,
   "id": "ff6ebbbd",
   "metadata": {},
   "outputs": [],
   "source": [
    "\n",
    "def add_expense(expenses: List[Dict[str, Any]]):\n",
    "    try:\n",
    "        amount = float(input(\"Enter amount: \"))\n",
    "    except ValueError:\n",
    "        print(\"Invalid amount.\")\n",
    "        return\n",
    "    category = input(\"Enter category: \").strip()\n",
    "    use_today = input(\"Use today's date? (y/n): \").lower()\n",
    "    if use_today == 'y':\n",
    "        date = datetime.today().strftime(\"%Y-%m-%d\")\n",
    "    else:\n",
    "        date = input(\"Enter date (YYYY-MM-DD): \").strip()\n",
    "        try:\n",
    "            datetime.strptime(date, \"%Y-%m-%d\")\n",
    "        except ValueError:\n",
    "            print(\"Invalid date format.\")\n",
    "            return\n",
    "    expenses.append({\"amount\": amount, \"category\": category, \"date\": date})\n",
    "    save_expenses(expenses)\n",
    "    print(\"Expense added successfully!\")\n"
   ]
  },
  {
   "cell_type": "code",
   "execution_count": 4,
   "id": "149d1b5d",
   "metadata": {},
   "outputs": [],
   "source": [
    "\n",
    "def view_summary(expenses: List[Dict[str, Any]]):\n",
    "    if not expenses:\n",
    "        print(\"No records found.\")\n",
    "        return\n",
    "    print(\"\\n1. Total by category\\n2. Overall total\\n3. Daily summary\\n4. Monthly summary\")\n",
    "    if HAVE_MPL:\n",
    "        print(\"5. Visualization\")\n",
    "    choice = input(\"Choose option: \").strip()\n",
    "    if choice == \"1\":\n",
    "        cat = input(\"Enter category: \")\n",
    "        total = sum(e['amount'] for e in expenses if e['category'].lower() == cat.lower())\n",
    "        print(f\"Total spent on {cat}: ${total:.2f}\")\n",
    "    elif choice == \"2\":\n",
    "        print(f\"Overall total: ${sum(e['amount'] for e in expenses):.2f}\")\n",
    "    elif choice == \"3\":\n",
    "        d = {}\n",
    "        for e in expenses:\n",
    "            d[e['date']] = d.get(e['date'], 0) + e['amount']\n",
    "        for k,v in sorted(d.items()):\n",
    "            print(f\"{k}: ${v:.2f}\")\n",
    "    elif choice == \"4\":\n",
    "        m = {}\n",
    "        for e in expenses:\n",
    "            month = e['date'][:7]\n",
    "            m[month] = m.get(month, 0) + e['amount']\n",
    "        for k,v in sorted(m.items()):\n",
    "            print(f\"{k}: ${v:.2f}\")\n",
    "    elif choice == \"5\" and HAVE_MPL:\n",
    "        show_visual_summary(expenses)\n"
   ]
  },
  {
   "cell_type": "markdown",
   "id": "2ff8f5d7",
   "metadata": {},
   "source": [
    "## 📈 Data Visualization\n",
    "We visualize spending trends and distributions using Matplotlib and Seaborn for better insights."
   ]
  },
  {
   "cell_type": "code",
   "execution_count": 5,
   "id": "626073e5",
   "metadata": {},
   "outputs": [],
   "source": [
    "\n",
    "def show_visual_summary(expenses):\n",
    "    if not HAVE_MPL:\n",
    "        print(\"Matplotlib not installed.\")\n",
    "        return\n",
    "    print(\"1. Pie chart by category\\n2. Monthly bar chart\")\n",
    "    ch = input(\"Choose: \").strip()\n",
    "    if ch == \"1\":\n",
    "        c = {}\n",
    "        for e in expenses:\n",
    "            c[e['category']] = c.get(e['category'], 0) + e['amount']\n",
    "        plt.pie(c.values(), labels=c.keys(), autopct='%1.1f%%')\n",
    "        plt.title(\"Spending by Category\")\n",
    "        plt.show()\n",
    "    elif ch == \"2\":\n",
    "        m = {}\n",
    "        for e in expenses:\n",
    "            mo = e['date'][:7]\n",
    "            m[mo] = m.get(mo, 0) + e['amount']\n",
    "        plt.bar(m.keys(), m.values())\n",
    "        plt.title(\"Monthly Spending\")\n",
    "        plt.show()\n"
   ]
  },
  {
   "cell_type": "code",
   "execution_count": 6,
   "id": "4f09ab25",
   "metadata": {},
   "outputs": [],
   "source": [
    "\n",
    "def list_expenses(expenses):\n",
    "    for i,e in enumerate(expenses,1):\n",
    "        print(f\"{i}. {e['date']} | {e['category']} | ${e['amount']:.2f}\")\n"
   ]
  },
  {
   "cell_type": "code",
   "execution_count": 12,
   "id": "934d496c",
   "metadata": {},
   "outputs": [],
   "source": [
    "\n",
    "def main():\n",
    "    print(\"Personal Expense Tracker\")\n",
    "    expenses = load_expenses()\n",
    "    while True:\n",
    "        print(\"\\n1. Add Expense\\n2. View Summary\\n3. List Expenses\\n4. Exit\")\n",
    "        ch = input(\"Choose: \").strip()\n",
    "        if ch == \"1\":\n",
    "            add_expense(expenses)\n",
    "        elif ch == \"2\":\n",
    "            view_summary(expenses)\n",
    "        elif ch == \"3\":\n",
    "            list_expenses(expenses)\n",
    "        elif ch == \"4\":\n",
    "            print(\"Goodbye!\")\n",
    "            break\n",
    "        else:\n",
    "            print(\"Invalid.\")\n"
   ]
  },
  {
   "cell_type": "code",
   "execution_count": 16,
   "id": "c27543de-227d-405b-87fd-da7d6ad0a3a8",
   "metadata": {},
   "outputs": [
    {
     "name": "stdout",
     "output_type": "stream",
     "text": [
      "Personal Expense Tracker\n",
      "\n",
      "1. Add Expense\n",
      "2. View Summary\n",
      "3. List Expenses\n",
      "4. Exit\n"
     ]
    },
    {
     "name": "stdin",
     "output_type": "stream",
     "text": [
      "Choose:  1\n",
      "Enter amount:  200\n",
      "Enter category:  travel\n",
      "Use today's date? (y/n):  y\n"
     ]
    },
    {
     "name": "stdout",
     "output_type": "stream",
     "text": [
      "Expense added successfully!\n",
      "\n",
      "1. Add Expense\n",
      "2. View Summary\n",
      "3. List Expenses\n",
      "4. Exit\n"
     ]
    },
    {
     "name": "stdin",
     "output_type": "stream",
     "text": [
      "Choose:  1\n",
      "Enter amount:  5000\n",
      "Enter category:  college\n",
      "Use today's date? (y/n):  n\n",
      "Enter date (YYYY-MM-DD):  2024-09-03\n"
     ]
    },
    {
     "name": "stdout",
     "output_type": "stream",
     "text": [
      "Expense added successfully!\n",
      "\n",
      "1. Add Expense\n",
      "2. View Summary\n",
      "3. List Expenses\n",
      "4. Exit\n"
     ]
    },
    {
     "name": "stdin",
     "output_type": "stream",
     "text": [
      "Choose:  2\n"
     ]
    },
    {
     "name": "stdout",
     "output_type": "stream",
     "text": [
      "\n",
      "1. Total by category\n",
      "2. Overall total\n",
      "3. Daily summary\n",
      "4. Monthly summary\n",
      "5. Visualization\n"
     ]
    },
    {
     "name": "stdin",
     "output_type": "stream",
     "text": [
      "Choose option:  5\n"
     ]
    },
    {
     "name": "stdout",
     "output_type": "stream",
     "text": [
      "1. Pie chart by category\n",
      "2. Monthly bar chart\n"
     ]
    },
    {
     "name": "stdin",
     "output_type": "stream",
     "text": [
      "Choose:  1\n"
     ]
    },
    {
     "data": {
      "image/png": "[encoded data removed]",
      "text/plain": [
       "<Figure size 640x480 with 1 Axes>"
      ]
     },
     "metadata": {},
     "output_type": "display_data"
    },
    {
     "name": "stdout",
     "output_type": "stream",
     "text": [
      "\n",
      "1. Add Expense\n",
      "2. View Summary\n",
      "3. List Expenses\n",
      "4. Exit\n"
     ]
    },
    {
     "name": "stdin",
     "output_type": "stream",
     "text": [
      "Choose:  4\n"
     ]
    },
    {
     "name": "stdout",
     "output_type": "stream",
     "text": [
      "Goodbye!\n"
     ]
    }
   ],
   "source": [
    "if __name__ == \"__main__\":\n",
    "    main()"
   ]
  },
  {
   "cell_type": "markdown",
   "id": "22621c41",
   "metadata": {},
   "source": [
    "\n",
    "## 📊 Additional Visualizations\n",
    "\n",
    "Below are some insightful visualizations automatically generated to summarize your expense data:\n",
    "- **Monthly Expense Trend**\n",
    "- **Category-wise Distribution**\n",
    "- **Income vs Expense Overview**\n"
   ]
  },
  {
   "cell_type": "code",
   "execution_count": null,
   "id": "9a49f7a3-37db-4f42-a204-d6f136d025bb",
   "metadata": {},
   "outputs": [],
   "source": [
    "\n",
    "import matplotlib.pyplot as plt\n",
    "import seaborn as sns\n",
    "\n",
    "# Ensure data has Date and Category columns\n",
    "df['Date'] = pd.to_datetime(df['Date'])\n",
    "df['Month'] = df['Date'].dt.to_period('M')\n",
    "\n",
    "# Monthly expense trend\n",
    "monthly_expenses = df.groupby('Month')['Amount'].sum()\n",
    "\n",
    "plt.figure(figsize=(10,5))\n",
    "sns.lineplot(x=monthly_expenses.index.astype(str), y=monthly_expenses.values, marker='o')\n",
    "plt.title('Monthly Expense Trend')\n",
    "plt.xlabel('Month')\n",
    "plt.ylabel('Total Expenses (₹)')\n",
    "plt.xticks(rotation=45)\n",
    "plt.tight_layout()\n",
    "plt.show()\n"
   ]
  },
  {
   "cell_type": "code",
   "execution_count": null,
   "id": "0c5683a6-824a-4ace-8fb5-0fc62d824a20",
   "metadata": {},
   "outputs": [],
   "source": [
    "\n",
    "total_expense = df['Amount'].sum()\n",
    "top_categories = category_expenses.sort_values(ascending=False).head(3)\n",
    "average_monthly = monthly_expenses.mean()\n",
    "\n",
    "print(\"Total Expense: ₹\", round(total_expense, 2))\n",
    "print(\"\\nTop 3 Spending Categories:\")\n",
    "print(top_categories)\n",
    "print(\"\\nAverage Monthly Expense: ₹\", round(average_monthly, 2))\n"
   ]
  },
  {
   "cell_type": "code",
   "execution_count": null,
   "id": "ef22f5b6",
   "metadata": {},
   "outputs": [],
   "source": [
    "\n",
    "# Category-wise expense distribution\n",
    "category_expenses = df.groupby('Category')['Amount'].sum()\n",
    "\n",
    "plt.figure(figsize=(7,7))\n",
    "plt.pie(category_expenses, labels=category_expenses.index, autopct='%1.1f%%', startangle=140)\n",
    "plt.title('Expense Distribution by Category')\n",
    "plt.show()\n"
   ]
  },
  {
   "cell_type": "markdown",
   "id": "bdce2a70",
   "metadata": {},
   "source": [
    "\n",
    "## 🧾 Summary Insights\n",
    "Let's summarize the key insights from the expense data.\n"
   ]
  },
  {
   "cell_type": "markdown",
   "id": "9c19af0e",
   "metadata": {},
   "source": [
    "\n",
    "---\n",
    "### ✅ Conclusion\n",
    "This notebook provides a detailed overview of your spending habits with interactive visual insights.  \n",
    "You can extend it by adding income tracking, predictive analysis, or budget recommendation features.\n",
    "\n"
   ]
  }
 ],
 "metadata": {
  "kernelspec": {
   "display_name": "Python [conda env:base] *",
   "language": "python",
   "name": "conda-base-py"
  },
  "language_info": {
   "codemirror_mode": {
    "name": "ipython",
    "version": 3
   },
   "file_extension": ".py",
   "mimetype": "text/x-python",
   "name": "python",
   "nbconvert_exporter": "python",
   "pygments_lexer": "ipython3",
   "version": "3.13.5"
  }
 },
 "nbformat": 4,
 "nbformat_minor": 5
}
